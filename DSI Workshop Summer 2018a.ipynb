{
 "cells": [
  {
   "cell_type": "markdown",
   "metadata": {
    "slideshow": {
     "slide_type": "slide"
    }
   },
   "source": [
    "# DSI Summer Workshops Series\n",
    "\n",
    "\n",
    "Peggy Lindner<br>\n",
    "Center for Advanced Computing & Data Science (CACDS)<br>\n",
    "Data Science Institute (DSI)<br>\n",
    "University of Houston  \n",
    "plindner@uh.edu \n",
    "\n",
    "\n",
    "This Notebook is available at:\n",
    "http://bitly.com/UHDSInotebook1\n",
    "\n",
    "You can already download it! Use the \"Save Link as\" method.\n",
    "\n",
    "Please make sure you have a copy of R up and running, as well as a Python 3 installation (ideally from Anacodna)."
   ]
  },
  {
   "cell_type": "markdown",
   "metadata": {
    "slideshow": {
     "slide_type": "slide"
    }
   },
   "source": [
    "## Goals for today\n",
    "\n",
    "Understand basics of text analysis using R"
   ]
  },
  {
   "cell_type": "markdown",
   "metadata": {
    "slideshow": {
     "slide_type": "fragment"
    }
   },
   "source": [
    "(well enough so that you can Google your problems, find the answer, and implement it.)"
   ]
  },
  {
   "cell_type": "markdown",
   "metadata": {
    "slideshow": {
     "slide_type": "slide"
    }
   },
   "source": [
    "#### More specifically\n",
    "\n",
    "1. Up and running with R & IPython\n",
    "2. Understand a basic exploratory data analysis workflow\n",
    "3. Basics of R and Topic Modeling "
   ]
  },
  {
   "cell_type": "markdown",
   "metadata": {
    "slideshow": {
     "slide_type": "slide"
    }
   },
   "source": [
    "#### Why R and not Python \n",
    "\n",
    "It's good for data exploration! "
   ]
  },
  {
   "cell_type": "markdown",
   "metadata": {
    "slideshow": {
     "slide_type": "slide"
    }
   },
   "source": [
    "## Part 1: Getting yourself ready\n",
    "\n",
    "### First: Install software on your computer\n",
    "\n",
    "* R [CRAN](https://www.anaconda.com/download/)\n",
    "* Python[Anaconda](https://www.anaconda.com/download/)\n",
    "\n"
   ]
  },
  {
   "cell_type": "markdown",
   "metadata": {
    "slideshow": {
     "slide_type": "slide"
    }
   },
   "source": [
    "\n",
    "### Second: Prep your R environment\n",
    "On a Mac open a terminal and start R\n",
    "\n",
    "![](https://raw.github.com/peggylind/DSI_Summer_Workshops/master/images/on-a-mac.png)"
   ]
  },
  {
   "cell_type": "markdown",
   "metadata": {
    "slideshow": {
     "slide_type": "slide"
    }
   },
   "source": [
    "On Windows: Open the Anaconda Command line and start R\n",
    "\n",
    "![](https://raw.github.com/peggylind/DSI_Summer_Workshops/master/images/anaconda-start.png)\n",
    "\n",
    "![](https://raw.github.com/peggylind/DSI_Summer_Workshops/master/images/windows.png)"
   ]
  },
  {
   "cell_type": "markdown",
   "metadata": {},
   "source": [
    "Now let's install some packages ...\n",
    "\n",
    "```\n",
    "> install.packages(c('repr', 'IRdisplay', 'evaluate', 'crayon', 'pbdZMQ', 'devtools', 'uuid', 'digest'))\n",
    "> devtools::install_github('IRkernel/IRkernel')\n",
    "```\n",
    "\n",
    "When you see \"Please select a CRAN mirror\" , well select one.\n",
    "\n",
    "![](https://raw.github.com/peggylind/DSI_Summer_Workshops/master/images/cran-repo.png)\n",
    "\n",
    "... one last step - installing the Kernel\n",
    "\n",
    "```\n",
    "> IRkernel::installspec()\n",
    "```\n",
    "\n",
    "Now we can close the R environment (but leave your terminal and console open)\n",
    "\n",
    "\n",
    "```\n",
    "> quit()\n",
    "```\n",
    "\n",
    "Say \"N\" (no) when asked to save the workspace."
   ]
  },
  {
   "cell_type": "markdown",
   "metadata": {
    "slideshow": {
     "slide_type": "slide"
    }
   },
   "source": [
    "### Jupyter Notebooks is what we will be going to use\n",
    "\n",
    "We are now ready to start up our Jupyter Environment from the terminal or the console:\n",
    "\n",
    "```\n",
    "$ jupyter notebook --notebook-dir C:/Users/[your username]\n",
    "\n",
    "or on a Mac\n",
    "\n",
    "$ jupyter notebook --notebook-dir /Users/[your username]\n",
    "```\n",
    "\n",
    "And your browser should open at the address: http://localhost:8888/tree\n",
    "\n",
    "![](https://raw.github.com/peggylind/DSI_Summer_Workshops/master/images/jupyter.png)"
   ]
  },
  {
   "cell_type": "markdown",
   "metadata": {
    "slideshow": {
     "slide_type": "slide"
    }
   },
   "source": [
    "#### Open the downloaded notebook on your computer\n",
    "\n",
    "![](https://raw.github.com/peggylind/DSI_Summer_Workshops/master/images/second-screen.png)\n"
   ]
  },
  {
   "cell_type": "markdown",
   "metadata": {
    "slideshow": {
     "slide_type": "slide"
    }
   },
   "source": [
    "#### Quick intro to Jupyter notebooks\n",
    "\n",
    "Cells can be Markdown (like this one) or code\n"
   ]
  },
  {
   "cell_type": "markdown",
   "metadata": {
    "slideshow": {
     "slide_type": "slide"
    }
   },
   "source": [
    "#### To start off with\n",
    "\n",
    "Make sure you hit `Shift-Enter` or `Ctrl-Enter` when you are done."
   ]
  },
  {
   "cell_type": "code",
   "execution_count": 1,
   "metadata": {},
   "outputs": [
    {
     "data": {
      "text/html": [
       "4"
      ],
      "text/latex": [
       "4"
      ],
      "text/markdown": [
       "4"
      ],
      "text/plain": [
       "[1] 4"
      ]
     },
     "metadata": {},
     "output_type": "display_data"
    }
   ],
   "source": [
    "2 + 2"
   ]
  },
  {
   "cell_type": "markdown",
   "metadata": {
    "slideshow": {
     "slide_type": "slide"
    }
   },
   "source": [
    "### Part 2: The Exploratory Analysis Workflow\n",
    "\n",
    "![](https://raw.github.com/peggylind/DSI_Summer_Workshops/master/images/data-science-workflow.png)\n",
    "Image source: Hadley Wickham, R for Data Science"
   ]
  },
  {
   "cell_type": "markdown",
   "metadata": {},
   "source": [
    "#### Our Example \n",
    "\n",
    "Media Analysis of a bunch of articles downloaded from a database called \"Factiva\"\n",
    "\n"
   ]
  },
  {
   "cell_type": "markdown",
   "metadata": {
    "slideshow": {
     "slide_type": "slide"
    }
   },
   "source": [
    "#### Frequently used R Packages in conjunction with text data\n",
    "\n",
    "* [readr](https://cran.r-project.org/web/packages/readr/readr.pdf) Import data\n",
    "\n",
    "Data Analysis of text based material\n",
    "\n",
    "* [stringr](https://cran.r-project.org/web/packages/stringr/vignettes/stringr.html) Clean up text\n",
    "* [SnowballC](https://cran.r-project.org/web/packages/SnowballC/SnowballC.pdf)  Stemming of words\n",
    "* [tm](https://cran.r-project.org/web/packages/tm/vignettes/tm.pdf) Text mining\n",
    "* [Quanteda](https://quanteda.io/) veratile text analysis tool\n",
    "\n",
    "Visualization\n",
    "\n",
    "* [ggplot2](http://ggplot2.tidyverse.org/) Modern R visulaizations\n",
    "* [wordcloud](http://developer.marvel.com) Make some nice word clouds\n",
    "* [RColorBrewer](https://dataset.readthedocs.org/en/latest/) Get color into your visualizations\n",
    "\n"
   ]
  },
  {
   "cell_type": "code",
   "execution_count": 3,
   "metadata": {},
   "outputs": [
    {
     "name": "stderr",
     "output_type": "stream",
     "text": [
      "Loading required package: RColorBrewer\n",
      "Loading required package: NLP\n",
      "\n",
      "Attaching package: ‘NLP’\n",
      "\n",
      "The following object is masked from ‘package:ggplot2’:\n",
      "\n",
      "    annotate\n",
      "\n"
     ]
    }
   ],
   "source": [
    "#load all required libraries library\n",
    "library(readr)\n",
    "library(stringr)\n",
    "library(SnowballC)\n",
    "library(wordcloud)\n",
    "library(RColorBrewer)\n",
    "library(tm)"
   ]
  },
  {
   "cell_type": "markdown",
   "metadata": {
    "slideshow": {
     "slide_type": "fragment"
    }
   },
   "source": [
    "Analysis\n",
    "\n",
    "* [NLTK](http://nltk.org) Natural Language Toolkit. There's a [book](http://nltk.org/book/)\n",
    "* [scikit-learn](http://scikit-learn.org/stable/) Machine learning\n",
    "* [pandas](http://pandas.pydata.org) Data management and analysis. There is a book.\n",
    "* [gensim](http://radimrehurek.com/gensim/) Topic modeling\n",
    "* [NetworkX](http://networkx.github.io) Network analysis\n",
    "* [matplotlib](http://matplotlib.org) Plotting* [NumPy](http://www.numpy.org) and [scipy](http://scipy.org) Computational backbone\n",
    "* [rpy](http://rpy.sourceforge.net) Python bindings for R\n"
   ]
  }
 ],
 "metadata": {
  "kernelspec": {
   "display_name": "R",
   "language": "R",
   "name": "ir"
  },
  "language_info": {
   "codemirror_mode": "r",
   "file_extension": ".r",
   "mimetype": "text/x-r-source",
   "name": "R",
   "pygments_lexer": "r",
   "version": "3.5.0"
  }
 },
 "nbformat": 4,
 "nbformat_minor": 1
}
