{
 "cells": [
  {
   "cell_type": "markdown",
   "metadata": {
    "slideshow": {
     "slide_type": "slide"
    }
   },
   "source": [
    "# DSI Summer Workshops Series\n",
    "\n",
    "\n",
    "Peggy Lindner<br>\n",
    "Center for Advanced Computing & Data Science (CACDS)<br>\n",
    "Data Science Institute (DSI)<br>\n",
    "University of Houston  \n",
    "plindner@uh.edu \n",
    "\n",
    "\n",
    "This Notebook is available at:\n",
    "http://bitly.com/UHDSInotebook1\n",
    "\n",
    "You can already download it! Use the \"Save Link as\" method.\n",
    "\n",
    "Please make sure you have a copy of R up and running, as well as a Python 3 installation (ideally from Anacodna)."
   ]
  },
  {
   "cell_type": "markdown",
   "metadata": {
    "slideshow": {
     "slide_type": "slide"
    }
   },
   "source": [
    "## Goals for today\n",
    "\n",
    "Understand basics of text analysis using R"
   ]
  },
  {
   "cell_type": "markdown",
   "metadata": {
    "slideshow": {
     "slide_type": "fragment"
    }
   },
   "source": [
    "(well enough so that you can Google your problems, find the answer, and implement it.)"
   ]
  },
  {
   "cell_type": "markdown",
   "metadata": {
    "slideshow": {
     "slide_type": "slide"
    }
   },
   "source": [
    "#### More specifically\n",
    "\n",
    "1. Up and running with R & IPython\n",
    "2. Understand a basic exploratory data analysis workflow\n",
    "3. Basics of R and Topic Modeling "
   ]
  },
  {
   "cell_type": "markdown",
   "metadata": {
    "slideshow": {
     "slide_type": "slide"
    }
   },
   "source": [
    "### The Exploratory Analysis Workflow"
   ]
  },
  {
   "cell_type": "markdown",
   "metadata": {
    "slideshow": {
     "slide_type": "slide"
    }
   },
   "source": [
    "\n",
    "\n",
    "![](https://raw.github.com/peggylind/DSI_Summer_Workshops/master/images/data-science-workflow.png)\n",
    "Image source: Hadley Wickham, R for Data Science"
   ]
  },
  {
   "cell_type": "markdown",
   "metadata": {
    "slideshow": {
     "slide_type": "slide"
    }
   },
   "source": [
    "#### Why R and not Python \n",
    "\n",
    "It's good for data exploration! "
   ]
  },
  {
   "cell_type": "markdown",
   "metadata": {
    "slideshow": {
     "slide_type": "slide"
    }
   },
   "source": [
    "## Getting yourself ready\n",
    "\n",
    "### First: Install software on your computer\n",
    "\n",
    "* R [CRAN](https://www.anaconda.com/download/)\n",
    "* Python[Anaconda](https://www.anaconda.com/download/)\n",
    "\n"
   ]
  },
  {
   "attachments": {},
   "cell_type": "markdown",
   "metadata": {
    "slideshow": {
     "slide_type": "slide"
    }
   },
   "source": [
    "\n",
    "### Second: Prep your R environment\n",
    "On a Mac open a terminal and start R\n",
    "\n",
    "![](https://raw.github.com/peggylind/DSI_Summer_Workshops/master/images/on-a-mac.png)"
   ]
  },
  {
   "cell_type": "markdown",
   "metadata": {
    "slideshow": {
     "slide_type": "slide"
    }
   },
   "source": [
    "On Windows: Open the Anaconda Command line and start R\n",
    "\n",
    "![](https://raw.github.com/peggylind/DSI_Summer_Workshops/master/images/anaconda-start.png)\n",
    "\n",
    "![](https://raw.github.com/peggylind/DSI_Summer_Workshops/master/images/windows.png)"
   ]
  },
  {
   "cell_type": "markdown",
   "metadata": {},
   "source": [
    "Now let's install some packages ...\n",
    "\n",
    "```\n",
    "> install.packages(c('repr', 'IRdisplay', 'evaluate', 'crayon', 'pbdZMQ', 'devtools', 'uuid', 'digest'))\n",
    "> devtools::install_github('IRkernel/IRkernel')\n",
    "```\n",
    "\n",
    "When you see \"Please select a CRAN mirror\" , well select one.\n",
    "\n",
    "![](https://raw.github.com/peggylind/DSI_Summer_Workshops/master/images/cran-repo.png)\n",
    "\n",
    "... one last step - installing the Kernel\n",
    "\n",
    "```\n",
    "> IRkernel::installspec()\n",
    "```\n",
    "\n",
    "Now we can close the R environment (but leave your terminal and console open)\n",
    "\n",
    "\n",
    "```\n",
    "> quit()\n",
    "```\n",
    "\n",
    "Say \"N\" (no) when asked to save the workspace."
   ]
  },
  {
   "cell_type": "markdown",
   "metadata": {
    "slideshow": {
     "slide_type": "slide"
    }
   },
   "source": [
    "### Jupyter Notebooks is what we will be going to use\n",
    "\n",
    "We are now ready to start up our Jupyter Environment from the terminal or the console:\n",
    "\n",
    "```\n",
    "$ jupyter notebook --notebook-dir C:/Users/[your username]\n",
    "\n",
    "or on a Mac\n",
    "\n",
    "$ jupyter notebook --notebook-dir /Users/[your username]\n",
    "```\n",
    "\n",
    "And your browser should open at the address: http://localhost:8888/tree\n",
    "\n",
    "![](https://raw.github.com/peggylind/DSI_Summer_Workshops/master/images/jupyter.png)"
   ]
  },
  {
   "cell_type": "markdown",
   "metadata": {
    "slideshow": {
     "slide_type": "slide"
    }
   },
   "source": [
    "#### Open the downloaded notebook on your computer\n",
    "\n",
    "![](https://raw.github.com/peggylind/DSI_Summer_Workshops/master/images/second-screen.png)\n",
    "\n",
    "https://raw.github.com/peggylind/DSI_Summer_Workshops/master/DSI%20Workshop%20Summer%202018a.ipynb"
   ]
  },
  {
   "cell_type": "markdown",
   "metadata": {
    "slideshow": {
     "slide_type": "slide"
    }
   },
   "source": [
    "Cells can be Markdown (like this one) or code\n",
    "\n",
    "![](https://raw.github.com/peggylind/DSI_Summer_Workshops/master/images/thrid-screen.png)"
   ]
  },
  {
   "cell_type": "markdown",
   "metadata": {
    "slideshow": {
     "slide_type": "slide"
    }
   },
   "source": [
    "#### To start off with\n",
    "\n",
    "Make sure you hit `Shift-Enter` or `Ctrl-Enter` when you are done."
   ]
  },
  {
   "cell_type": "code",
   "execution_count": 3,
   "metadata": {},
   "outputs": [
    {
     "data": {
      "text/plain": [
       "4"
      ]
     },
     "execution_count": 3,
     "metadata": {},
     "output_type": "execute_result"
    }
   ],
   "source": [
    "2 + 2"
   ]
  },
  {
   "cell_type": "markdown",
   "metadata": {
    "slideshow": {
     "slide_type": "slide"
    }
   },
   "source": [
    "#### Frequently used R Packages\n",
    "\n",
    "Data aquisition\n",
    "\n",
    "* [requests](http://docs.python-requests.org/en/latest/) Web scraping\n",
    "* [mechanize](http://wwwsearch.sourceforge.net/mechanize/) Web scraping\n",
    "* [BeautifulSoup](http://www.crummy.com/software/BeautifulSoup/) HTML cleaning\n",
    "* [Tweepy](http://tweepy.github.io) Access to Twitter API\n",
    "* [Marvel Comics](http://developer.marvel.com) Access to Marvel Universe\n",
    "* [database](https://dataset.readthedocs.org/en/latest/) Relational database/SQL\n",
    "\n"
   ]
  },
  {
   "cell_type": "markdown",
   "metadata": {
    "slideshow": {
     "slide_type": "fragment"
    }
   },
   "source": [
    "Analysis\n",
    "\n",
    "* [NLTK](http://nltk.org) Natural Language Toolkit. There's a [book](http://nltk.org/book/)\n",
    "* [scikit-learn](http://scikit-learn.org/stable/) Machine learning\n",
    "* [pandas](http://pandas.pydata.org) Data management and analysis. There is a book.\n",
    "* [gensim](http://radimrehurek.com/gensim/) Topic modeling\n",
    "* [NetworkX](http://networkx.github.io) Network analysis\n",
    "* [matplotlib](http://matplotlib.org) Plotting* [NumPy](http://www.numpy.org) and [scipy](http://scipy.org) Computational backbone\n",
    "* [rpy](http://rpy.sourceforge.net) Python bindings for R\n"
   ]
  }
 ],
 "metadata": {
  "kernelspec": {
   "display_name": "R",
   "language": "R",
   "name": "ir"
  },
  "language_info": {
   "codemirror_mode": "r",
   "file_extension": ".r",
   "mimetype": "text/x-r-source",
   "name": "R",
   "pygments_lexer": "r",
   "version": "3.5.0"
  }
 },
 "nbformat": 4,
 "nbformat_minor": 1
}
