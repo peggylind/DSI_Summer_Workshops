{
 "cells": [
  {
   "cell_type": "markdown",
   "metadata": {
    "slideshow": {
     "slide_type": "slide"
    }
   },
   "source": [
    "# DSI Summer Workshops Series\n",
    "\n",
    "\n",
    "Peggy Lindner<br>\n",
    "Center for Advanced Computing & Data Science (CACDS)<br>\n",
    "Data Science Institute (DSI)<br>\n",
    "University of Houston  \n",
    "plindner@uh.edu \n",
    "\n",
    "\n",
    "Code available from  \n",
    "http://bitly.com/sjkdfdjks\n",
    "\n",
    "Please make sure you have a copy of R up and running, as well as a Python 3 installation (ideally from Anacodna)."
   ]
  },
  {
   "cell_type": "markdown",
   "metadata": {
    "slideshow": {
     "slide_type": "slide"
    }
   },
   "source": [
    "### Goals for today\n",
    "\n",
    "Understand basics of text analysis using R"
   ]
  },
  {
   "cell_type": "markdown",
   "metadata": {
    "slideshow": {
     "slide_type": "fragment"
    }
   },
   "source": [
    "(well enough so that you can Google your problems, find the answer, and implement it.)"
   ]
  },
  {
   "cell_type": "markdown",
   "metadata": {
    "slideshow": {
     "slide_type": "slide"
    }
   },
   "source": [
    "### The Exploratory Analysis Workflow\n",
    "\n",
    "\n",
    "1. Collecting text and non-text data from the web.\n",
    "    a. Sometimes they want to give it to you (APIs)\n",
    "    b. Sometimes they don't (HTML scraping)"
   ]
  },
  {
   "cell_type": "markdown",
   "metadata": {
    "slideshow": {
     "slide_type": "slide"
    }
   },
   "source": [
    "Yelp can tell us how SES structures food options.\n",
    "\n",
    "![](https://raw.github.com/peggylind/DSI_Summer_Workshops/master/images/data-science-workflow.png)\n",
    "Image source: Hadley Wickham, R for Data Science"
   ]
  },
  {
   "cell_type": "markdown",
   "metadata": {
    "slideshow": {
     "slide_type": "slide"
    }
   },
   "source": [
    "#### More specifically\n",
    "\n",
    "1. Up and running with R & IPython\n",
    "2. Understand a basic exploratory data analysis workflow\n",
    "3. Basics of R and topic modeling \n",
    "4. Collecting data from a website (4_Upworthy)\n",
    "5. Collecting data from an API (5_Times)\n",
    "6. Basic text ML with scikit-learn (6_classification)"
   ]
  },
  {
   "cell_type": "markdown",
   "metadata": {
    "slideshow": {
     "slide_type": "slide"
    }
   },
   "source": [
    "#### Why R and not Python \n",
    "\n",
    "It's good for data exploration! (next time we'll use Python)"
   ]
  },
  {
   "cell_type": "markdown",
   "metadata": {
    "slideshow": {
     "slide_type": "slide"
    }
   },
   "source": [
    "#### Setup\n",
    "\n",
    "On your computer\n",
    "\n",
    "* R [CRAN](https://www.anaconda.com/download/)\n",
    "* Python[Anaconda](https://www.anaconda.com/download/)\n",
    "\n"
   ]
  },
  {
   "cell_type": "markdown",
   "metadata": {
    "slideshow": {
     "slide_type": "slide"
    }
   },
   "source": [
    "#### Getting yourself setup\n",
    "\n",
    "##### Prep your R environment\n",
    "On a Mac\n",
    "\n",
    "![](https://raw.github.com/peggylind/DSI_Summer_Workshops/master/images/on-a-mac.png)"
   ]
  },
  {
   "cell_type": "markdown",
   "metadata": {
    "slideshow": {
     "slide_type": "slide"
    }
   },
   "source": [
    "On Windows\n",
    "\n",
    "![](https://raw.github.com/peggylind/DSI_Summer_Workshops/master/images/windowspng)"
   ]
  },
  {
   "cell_type": "code",
   "execution_count": null,
   "metadata": {},
   "outputs": [],
   "source": [
    "> install.packages(c('repr', 'IRdisplay', 'evaluate', 'crayon', 'pbdZMQ', 'devtools', 'uuid', 'digest'))\n",
    "> devtools::install_github('IRkernel/IRkernel')"
   ]
  },
  {
   "cell_type": "markdown",
   "metadata": {
    "slideshow": {
     "slide_type": "slide"
    }
   },
   "source": [
    "#### Jupyter Notebooks is what we will be going to use.\n",
    "\n",
    "![](https://raw.github.com/peggylind/DSI_Summer_Workshops/master/images/first-screen.png)"
   ]
  },
  {
   "cell_type": "markdown",
   "metadata": {
    "slideshow": {
     "slide_type": "slide"
    }
   },
   "source": [
    "#### Download the notebook and open it on your computer\n",
    "\n",
    "![](https://raw.github.com/peggylind/DSI_Summer_Workshops/master/images/second-screen.png)"
   ]
  },
  {
   "cell_type": "markdown",
   "metadata": {
    "slideshow": {
     "slide_type": "slide"
    }
   },
   "source": [
    "Cells can be Markdown (like this one) or code\n",
    "\n",
    "![](https://raw.github.com/peggylind/DSI_Summer_Workshops/master/images/thrid-screen.png)"
   ]
  },
  {
   "cell_type": "markdown",
   "metadata": {
    "slideshow": {
     "slide_type": "slide"
    }
   },
   "source": [
    "#### To start off with\n",
    "\n",
    "Make sure you hit `Shift-Enter` or `Ctrl-Enter` when you are done."
   ]
  },
  {
   "cell_type": "code",
   "execution_count": 3,
   "metadata": {},
   "outputs": [
    {
     "data": {
      "text/plain": [
       "4"
      ]
     },
     "execution_count": 3,
     "metadata": {},
     "output_type": "execute_result"
    }
   ],
   "source": [
    "2 + 2"
   ]
  },
  {
   "cell_type": "markdown",
   "metadata": {
    "slideshow": {
     "slide_type": "slide"
    }
   },
   "source": [
    "#### Frequently used R Packages\n",
    "\n",
    "Data aquisition\n",
    "\n",
    "* [requests](http://docs.python-requests.org/en/latest/) Web scraping\n",
    "* [mechanize](http://wwwsearch.sourceforge.net/mechanize/) Web scraping\n",
    "* [BeautifulSoup](http://www.crummy.com/software/BeautifulSoup/) HTML cleaning\n",
    "* [Tweepy](http://tweepy.github.io) Access to Twitter API\n",
    "* [Marvel Comics](http://developer.marvel.com) Access to Marvel Universe\n",
    "* [database](https://dataset.readthedocs.org/en/latest/) Relational database/SQL\n",
    "\n"
   ]
  },
  {
   "cell_type": "markdown",
   "metadata": {
    "slideshow": {
     "slide_type": "fragment"
    }
   },
   "source": [
    "Analysis\n",
    "\n",
    "* [NLTK](http://nltk.org) Natural Language Toolkit. There's a [book](http://nltk.org/book/)\n",
    "* [scikit-learn](http://scikit-learn.org/stable/) Machine learning\n",
    "* [pandas](http://pandas.pydata.org) Data management and analysis. There is a book.\n",
    "* [gensim](http://radimrehurek.com/gensim/) Topic modeling\n",
    "* [NetworkX](http://networkx.github.io) Network analysis\n",
    "* [matplotlib](http://matplotlib.org) Plotting* [NumPy](http://www.numpy.org) and [scipy](http://scipy.org) Computational backbone\n",
    "* [rpy](http://rpy.sourceforge.net) Python bindings for R\n"
   ]
  }
 ],
 "metadata": {
  "kernelspec": {
   "display_name": "R",
   "language": "R",
   "name": "ir"
  },
  "language_info": {
   "codemirror_mode": "r",
   "file_extension": ".r",
   "mimetype": "text/x-r-source",
   "name": "R",
   "pygments_lexer": "r",
   "version": "3.5.0"
  }
 },
 "nbformat": 4,
 "nbformat_minor": 1
}
